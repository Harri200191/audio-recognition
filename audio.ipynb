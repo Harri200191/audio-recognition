{
 "cells": [
  {
   "cell_type": "code",
   "execution_count": 4,
   "metadata": {},
   "outputs": [],
   "source": [
    "from preprocess import *\n",
    "import tensorflow as tf\n",
    "from keras.models import Sequential\n",
    "from keras.layers import Dense, Dropout, Flatten, Conv2D, MaxPooling2D, LSTM\n",
    "import matplotlib.pyplot as plt"
   ]
  },
  {
   "cell_type": "code",
   "execution_count": 5,
   "metadata": {},
   "outputs": [
    {
     "name": "stdout",
     "output_type": "stream",
     "text": [
      "Num GPUs Available:  1\n"
     ]
    }
   ],
   "source": [
    "print(\"Num GPUs Available: \", len(tf.config.list_physical_devices('GPU')))"
   ]
  },
  {
   "cell_type": "code",
   "execution_count": 7,
   "metadata": {},
   "outputs": [
    {
     "name": "stderr",
     "output_type": "stream",
     "text": [
      "Saving vectors of label - 'bed': 100%|██████████| 1713/1713 [00:19<00:00, 87.81it/s] \n",
      "Saving vectors of label - 'cat': 100%|██████████| 1733/1733 [00:15<00:00, 115.34it/s]\n",
      "Saving vectors of label - 'happy': 100%|██████████| 1743/1743 [00:15<00:00, 115.55it/s]\n"
     ]
    }
   ],
   "source": [
    "config_max_len = 11\n",
    "config_buckets = 20\n",
    "\n",
    "save_data_to_array(max_len=config_max_len, n_mfcc=config_buckets)\n",
    "\n",
    "labels=[\"bed\", \"happy\", \"cat\"]"
   ]
  },
  {
   "cell_type": "code",
   "execution_count": 9,
   "metadata": {},
   "outputs": [
    {
     "data": {
      "text/plain": [
       "(1713, 20, 11)"
      ]
     },
     "execution_count": 9,
     "metadata": {},
     "output_type": "execute_result"
    }
   ],
   "source": [
    "temp = np.load(\"bed.npy\")\n",
    "temp.shape"
   ]
  },
  {
   "cell_type": "code",
   "execution_count": 8,
   "metadata": {},
   "outputs": [],
   "source": [
    "# # Loading train set and test set\n",
    "X_train, X_test, y_train, y_test = get_train_test()"
   ]
  },
  {
   "cell_type": "code",
   "execution_count": 14,
   "metadata": {},
   "outputs": [
    {
     "data": {
      "text/plain": [
       "(20, 11)"
      ]
     },
     "execution_count": 14,
     "metadata": {},
     "output_type": "execute_result"
    }
   ],
   "source": [
    "X_train[0].shape"
   ]
  },
  {
   "cell_type": "code",
   "execution_count": 15,
   "metadata": {},
   "outputs": [],
   "source": [
    "# # Feature dimension\n",
    "channels = 1\n",
    "batch_size = 100\n",
    "\n",
    "num_classes = 3\n",
    "\n",
    "X_train = X_train.reshape(X_train.shape[0], config_buckets, config_max_len, channels)\n",
    "X_test = X_test.reshape(X_test.shape[0], config_buckets, config_max_len, channels)"
   ]
  },
  {
   "cell_type": "code",
   "execution_count": 16,
   "metadata": {},
   "outputs": [
    {
     "data": {
      "text/plain": [
       "(20, 11, 1)"
      ]
     },
     "execution_count": 16,
     "metadata": {},
     "output_type": "execute_result"
    }
   ],
   "source": [
    "X_train[0].shape"
   ]
  },
  {
   "cell_type": "code",
   "execution_count": 17,
   "metadata": {},
   "outputs": [
    {
     "name": "stdout",
     "output_type": "stream",
     "text": [
      "0.0\n"
     ]
    },
    {
     "data": {
      "image/png": "[encoded data removed]",
      "text/plain": [
       "<Figure size 640x480 with 1 Axes>"
      ]
     },
     "metadata": {},
     "output_type": "display_data"
    }
   ],
   "source": [
    "plt.imshow(X_train[110, :, :, 0])\n",
    "print(y_train[110])"
   ]
  },
  {
   "cell_type": "code",
   "execution_count": 18,
   "metadata": {},
   "outputs": [],
   "source": [
    "y_train_hot = tf.keras.utils.to_categorical(y_train)\n",
    "y_test_hot = tf.keras.utils.to_categorical(y_test)"
   ]
  },
  {
   "cell_type": "code",
   "execution_count": 19,
   "metadata": {},
   "outputs": [],
   "source": [
    "class myCallback(tf.keras.callbacks.Callback):\n",
    "    def on_epoch_end(self, epoch, logs = {}):\n",
    "        if logs.get('accuracy') is not None and logs.get('val_accuracy') > 0.95:                 \n",
    "            print(\"\\n Reached 95 percent accuracy so cancelling training!\")\n",
    "            self.model.stop_training = True "
   ]
  },
  {
   "cell_type": "code",
   "execution_count": 20,
   "metadata": {},
   "outputs": [],
   "source": [
    "callbacks = myCallback()"
   ]
  },
  {
   "cell_type": "code",
   "execution_count": 21,
   "metadata": {},
   "outputs": [],
   "source": [
    "model = tf.keras.Sequential([\n",
    "    tf.keras.layers.Conv2D(32, (3,3), activation='relu', input_shape=(config_buckets, config_max_len, channels)),\n",
    "    tf.keras.layers.MaxPooling2D(2, 2),\n",
    "\n",
    "    tf.keras.layers.Conv2D(64, (3,3), activation='relu'),\n",
    "    tf.keras.layers.MaxPooling2D(2, 2),\n",
    "\n",
    "    tf.keras.layers.Dropout(0.25),\n",
    "    tf.keras.layers.Flatten(),\n",
    "    tf.keras.layers.Dense(1024, activation='relu'),\n",
    "    tf.keras.layers.Dropout(0.4),\n",
    "    tf.keras.layers.Dense(512, activation='relu'),\n",
    "    tf.keras.layers.Dropout(0.30),\n",
    "    tf.keras.layers.Dense(256, activation='relu'),\n",
    "    tf.keras.layers.Dropout(0.25),\n",
    "    tf.keras.layers.Dense(128, activation='relu'),\n",
    "    tf.keras.layers.Dropout(0.20),\n",
    "    tf.keras.layers.Dense(64, activation='relu'),\n",
    "    tf.keras.layers.Dropout(0.20),\n",
    "    tf.keras.layers.Dense(16, activation='relu'),\n",
    "    tf.keras.layers.Dropout(0.20),\n",
    "    tf.keras.layers.Dense(num_classes, activation='softmax')\n",
    "])"
   ]
  },
  {
   "cell_type": "code",
   "execution_count": 22,
   "metadata": {},
   "outputs": [],
   "source": [
    "model.compile(loss=\"categorical_crossentropy\",\n",
    "                  optimizer=\"adam\",\n",
    "                  metrics=['accuracy'])"
   ]
  },
  {
   "cell_type": "code",
   "execution_count": 23,
   "metadata": {},
   "outputs": [
    {
     "name": "stdout",
     "output_type": "stream",
     "text": [
      "Model: \"sequential\"\n",
      "_________________________________________________________________\n",
      " Layer (type)                Output Shape              Param #   \n",
      "=================================================================\n",
      " conv2d (Conv2D)             (None, 18, 9, 32)         320       \n",
      "                                                                 \n",
      " max_pooling2d (MaxPooling2D  (None, 9, 4, 32)         0         \n",
      " )                                                               \n",
      "                                                                 \n",
      " conv2d_1 (Conv2D)           (None, 7, 2, 64)          18496     \n",
      "                                                                 \n",
      " max_pooling2d_1 (MaxPooling  (None, 3, 1, 64)         0         \n",
      " 2D)                                                             \n",
      "                                                                 \n",
      " dropout (Dropout)           (None, 3, 1, 64)          0         \n",
      "                                                                 \n",
      " flatten (Flatten)           (None, 192)               0         \n",
      "                                                                 \n",
      " dense (Dense)               (None, 1024)              197632    \n",
      "                                                                 \n",
      " dropout_1 (Dropout)         (None, 1024)              0         \n",
      "                                                                 \n",
      " dense_1 (Dense)             (None, 512)               524800    \n",
      "                                                                 \n",
      " dropout_2 (Dropout)         (None, 512)               0         \n",
      "                                                                 \n",
      " dense_2 (Dense)             (None, 256)               131328    \n",
      "                                                                 \n",
      " dropout_3 (Dropout)         (None, 256)               0         \n",
      "                                                                 \n",
      " dense_3 (Dense)             (None, 128)               32896     \n",
      "                                                                 \n",
      " dropout_4 (Dropout)         (None, 128)               0         \n",
      "                                                                 \n",
      " dense_4 (Dense)             (None, 64)                8256      \n",
      "                                                                 \n",
      " dropout_5 (Dropout)         (None, 64)                0         \n",
      "                                                                 \n",
      " dense_5 (Dense)             (None, 16)                1040      \n",
      "                                                                 \n",
      " dropout_6 (Dropout)         (None, 16)                0         \n",
      "                                                                 \n",
      " dense_6 (Dense)             (None, 3)                 51        \n",
      "                                                                 \n",
      "=================================================================\n",
      "Total params: 914,819\n",
      "Trainable params: 914,819\n",
      "Non-trainable params: 0\n",
      "_________________________________________________________________\n"
     ]
    }
   ],
   "source": [
    "model.summary()"
   ]
  },
  {
   "cell_type": "code",
   "execution_count": 24,
   "metadata": {},
   "outputs": [
    {
     "name": "stdout",
     "output_type": "stream",
     "text": [
      "Epoch 1/115\n",
      "114/114 [==============================] - 6s 7ms/step - loss: 1.2352 - accuracy: 0.3365 - val_loss: 1.0768 - val_accuracy: 0.4181\n",
      "Epoch 2/115\n",
      "114/114 [==============================] - 1s 5ms/step - loss: 1.0367 - accuracy: 0.4441 - val_loss: 0.7627 - val_accuracy: 0.6712\n",
      "Epoch 3/115\n",
      "114/114 [==============================] - 1s 5ms/step - loss: 0.7079 - accuracy: 0.6999 - val_loss: 0.5011 - val_accuracy: 0.8163\n",
      "Epoch 4/115\n",
      "114/114 [==============================] - 1s 5ms/step - loss: 0.5417 - accuracy: 0.7987 - val_loss: 0.4409 - val_accuracy: 0.8420\n",
      "Epoch 5/115\n",
      "114/114 [==============================] - 1s 5ms/step - loss: 0.4425 - accuracy: 0.8436 - val_loss: 0.3437 - val_accuracy: 0.8767\n",
      "Epoch 6/115\n",
      "114/114 [==============================] - 1s 5ms/step - loss: 0.4175 - accuracy: 0.8590 - val_loss: 0.2725 - val_accuracy: 0.9069\n",
      "Epoch 7/115\n",
      "114/114 [==============================] - 1s 5ms/step - loss: 0.3794 - accuracy: 0.8634 - val_loss: 0.3570 - val_accuracy: 0.8664\n",
      "Epoch 8/115\n",
      "114/114 [==============================] - 1s 5ms/step - loss: 0.3547 - accuracy: 0.8728 - val_loss: 0.2653 - val_accuracy: 0.9152\n",
      "Epoch 9/115\n",
      "114/114 [==============================] - 1s 5ms/step - loss: 0.3038 - accuracy: 0.8940 - val_loss: 0.2329 - val_accuracy: 0.9236\n",
      "Epoch 10/115\n",
      "114/114 [==============================] - 1s 5ms/step - loss: 0.3146 - accuracy: 0.8940 - val_loss: 0.2328 - val_accuracy: 0.9223\n",
      "Epoch 11/115\n",
      "114/114 [==============================] - 1s 5ms/step - loss: 0.2823 - accuracy: 0.9042 - val_loss: 0.2677 - val_accuracy: 0.9094\n",
      "Epoch 12/115\n",
      "114/114 [==============================] - 1s 5ms/step - loss: 0.2990 - accuracy: 0.8882 - val_loss: 0.2536 - val_accuracy: 0.9184\n",
      "Epoch 13/115\n",
      "114/114 [==============================] - 1s 5ms/step - loss: 0.2739 - accuracy: 0.9078 - val_loss: 0.3006 - val_accuracy: 0.9037\n",
      "Epoch 14/115\n",
      "114/114 [==============================] - 1s 5ms/step - loss: 0.2773 - accuracy: 0.9056 - val_loss: 0.2563 - val_accuracy: 0.9127\n",
      "Epoch 15/115\n",
      "114/114 [==============================] - 1s 5ms/step - loss: 0.2661 - accuracy: 0.9119 - val_loss: 0.2124 - val_accuracy: 0.9268\n",
      "Epoch 16/115\n",
      "114/114 [==============================] - 1s 5ms/step - loss: 0.2414 - accuracy: 0.9218 - val_loss: 0.1975 - val_accuracy: 0.9294\n",
      "Epoch 17/115\n",
      "114/114 [==============================] - 1s 5ms/step - loss: 0.2525 - accuracy: 0.9157 - val_loss: 0.2406 - val_accuracy: 0.9152\n",
      "Epoch 18/115\n",
      "114/114 [==============================] - 1s 5ms/step - loss: 0.2245 - accuracy: 0.9232 - val_loss: 0.2108 - val_accuracy: 0.9216\n",
      "Epoch 19/115\n",
      "114/114 [==============================] - 1s 5ms/step - loss: 0.2180 - accuracy: 0.9232 - val_loss: 0.2337 - val_accuracy: 0.9255\n",
      "Epoch 20/115\n",
      "114/114 [==============================] - 1s 5ms/step - loss: 0.2220 - accuracy: 0.9213 - val_loss: 0.2060 - val_accuracy: 0.9255\n",
      "Epoch 21/115\n",
      "114/114 [==============================] - 1s 4ms/step - loss: 0.2182 - accuracy: 0.9276 - val_loss: 0.2017 - val_accuracy: 0.9281\n",
      "Epoch 22/115\n",
      "114/114 [==============================] - 1s 4ms/step - loss: 0.2076 - accuracy: 0.9284 - val_loss: 0.2180 - val_accuracy: 0.9319\n",
      "Epoch 23/115\n",
      "114/114 [==============================] - 1s 5ms/step - loss: 0.2098 - accuracy: 0.9309 - val_loss: 0.2195 - val_accuracy: 0.9197\n",
      "Epoch 24/115\n",
      "114/114 [==============================] - 1s 5ms/step - loss: 0.2122 - accuracy: 0.9279 - val_loss: 0.2618 - val_accuracy: 0.8927\n",
      "Epoch 25/115\n",
      "114/114 [==============================] - 1s 5ms/step - loss: 0.2307 - accuracy: 0.9232 - val_loss: 0.2034 - val_accuracy: 0.9229\n",
      "Epoch 26/115\n",
      "114/114 [==============================] - 1s 5ms/step - loss: 0.1954 - accuracy: 0.9394 - val_loss: 0.1999 - val_accuracy: 0.9300\n",
      "Epoch 27/115\n",
      "114/114 [==============================] - 1s 5ms/step - loss: 0.1994 - accuracy: 0.9356 - val_loss: 0.2371 - val_accuracy: 0.9165\n",
      "Epoch 28/115\n",
      "114/114 [==============================] - 1s 5ms/step - loss: 0.2010 - accuracy: 0.9408 - val_loss: 0.2013 - val_accuracy: 0.9358\n",
      "Epoch 29/115\n",
      "114/114 [==============================] - 1s 5ms/step - loss: 0.1863 - accuracy: 0.9416 - val_loss: 0.2289 - val_accuracy: 0.9171\n",
      "Epoch 30/115\n",
      "114/114 [==============================] - 1s 5ms/step - loss: 0.2032 - accuracy: 0.9372 - val_loss: 0.1983 - val_accuracy: 0.9319\n",
      "Epoch 31/115\n",
      "114/114 [==============================] - 1s 5ms/step - loss: 0.1949 - accuracy: 0.9383 - val_loss: 0.2543 - val_accuracy: 0.9204\n",
      "Epoch 32/115\n",
      "114/114 [==============================] - 1s 5ms/step - loss: 0.1874 - accuracy: 0.9392 - val_loss: 0.1915 - val_accuracy: 0.9287\n",
      "Epoch 33/115\n",
      "114/114 [==============================] - 1s 5ms/step - loss: 0.1721 - accuracy: 0.9482 - val_loss: 0.2146 - val_accuracy: 0.9294\n",
      "Epoch 34/115\n",
      "114/114 [==============================] - 1s 5ms/step - loss: 0.2027 - accuracy: 0.9372 - val_loss: 0.1961 - val_accuracy: 0.9345\n",
      "Epoch 35/115\n",
      "114/114 [==============================] - 1s 5ms/step - loss: 0.1649 - accuracy: 0.9458 - val_loss: 0.1880 - val_accuracy: 0.9364\n",
      "Epoch 36/115\n",
      "114/114 [==============================] - 1s 5ms/step - loss: 0.1560 - accuracy: 0.9496 - val_loss: 0.1914 - val_accuracy: 0.9300\n",
      "Epoch 37/115\n",
      "114/114 [==============================] - 1s 5ms/step - loss: 0.1711 - accuracy: 0.9447 - val_loss: 0.2035 - val_accuracy: 0.9319\n",
      "Epoch 38/115\n",
      "114/114 [==============================] - 1s 5ms/step - loss: 0.1455 - accuracy: 0.9540 - val_loss: 0.2270 - val_accuracy: 0.9294\n",
      "Epoch 39/115\n",
      "114/114 [==============================] - 1s 5ms/step - loss: 0.1750 - accuracy: 0.9447 - val_loss: 0.1966 - val_accuracy: 0.9351\n",
      "Epoch 40/115\n",
      "114/114 [==============================] - 1s 5ms/step - loss: 0.1499 - accuracy: 0.9493 - val_loss: 0.2088 - val_accuracy: 0.9255\n",
      "Epoch 41/115\n",
      "114/114 [==============================] - 1s 5ms/step - loss: 0.1630 - accuracy: 0.9491 - val_loss: 0.1995 - val_accuracy: 0.9338\n",
      "Epoch 42/115\n",
      "114/114 [==============================] - 1s 5ms/step - loss: 0.1655 - accuracy: 0.9460 - val_loss: 0.1776 - val_accuracy: 0.9390\n",
      "Epoch 43/115\n",
      "114/114 [==============================] - 1s 5ms/step - loss: 0.1654 - accuracy: 0.9502 - val_loss: 0.1997 - val_accuracy: 0.9287\n",
      "Epoch 44/115\n",
      "114/114 [==============================] - 1s 4ms/step - loss: 0.1445 - accuracy: 0.9540 - val_loss: 0.2135 - val_accuracy: 0.9287\n",
      "Epoch 45/115\n",
      "114/114 [==============================] - 1s 5ms/step - loss: 0.1472 - accuracy: 0.9480 - val_loss: 0.2470 - val_accuracy: 0.9294\n",
      "Epoch 46/115\n",
      "114/114 [==============================] - 1s 5ms/step - loss: 0.1538 - accuracy: 0.9551 - val_loss: 0.2193 - val_accuracy: 0.9371\n",
      "Epoch 47/115\n",
      "114/114 [==============================] - 1s 5ms/step - loss: 0.1480 - accuracy: 0.9493 - val_loss: 0.2183 - val_accuracy: 0.9281\n",
      "Epoch 48/115\n",
      "114/114 [==============================] - 1s 5ms/step - loss: 0.1445 - accuracy: 0.9493 - val_loss: 0.1743 - val_accuracy: 0.9371\n",
      "Epoch 49/115\n",
      "114/114 [==============================] - 1s 5ms/step - loss: 0.1487 - accuracy: 0.9518 - val_loss: 0.2332 - val_accuracy: 0.9120\n",
      "Epoch 50/115\n",
      "114/114 [==============================] - 1s 5ms/step - loss: 0.1700 - accuracy: 0.9521 - val_loss: 0.2277 - val_accuracy: 0.9236\n",
      "Epoch 51/115\n",
      "114/114 [==============================] - 1s 5ms/step - loss: 0.1656 - accuracy: 0.9510 - val_loss: 0.1935 - val_accuracy: 0.9351\n",
      "Epoch 52/115\n",
      "114/114 [==============================] - 1s 5ms/step - loss: 0.1283 - accuracy: 0.9579 - val_loss: 0.1951 - val_accuracy: 0.9364\n",
      "Epoch 53/115\n",
      "114/114 [==============================] - 1s 5ms/step - loss: 0.1406 - accuracy: 0.9532 - val_loss: 0.1854 - val_accuracy: 0.9371\n",
      "Epoch 54/115\n",
      "114/114 [==============================] - 1s 5ms/step - loss: 0.1276 - accuracy: 0.9559 - val_loss: 0.1980 - val_accuracy: 0.9351\n",
      "Epoch 55/115\n",
      "114/114 [==============================] - 1s 5ms/step - loss: 0.1534 - accuracy: 0.9557 - val_loss: 0.2678 - val_accuracy: 0.9191\n",
      "Epoch 56/115\n",
      "114/114 [==============================] - 1s 5ms/step - loss: 0.1538 - accuracy: 0.9469 - val_loss: 0.2016 - val_accuracy: 0.9377\n",
      "Epoch 57/115\n",
      "114/114 [==============================] - 1s 5ms/step - loss: 0.1370 - accuracy: 0.9540 - val_loss: 0.2041 - val_accuracy: 0.9371\n",
      "Epoch 58/115\n",
      "114/114 [==============================] - 1s 5ms/step - loss: 0.1350 - accuracy: 0.9557 - val_loss: 0.1972 - val_accuracy: 0.9371\n",
      "Epoch 59/115\n",
      "114/114 [==============================] - 1s 5ms/step - loss: 0.1282 - accuracy: 0.9590 - val_loss: 0.2157 - val_accuracy: 0.9371\n",
      "Epoch 60/115\n",
      "114/114 [==============================] - 1s 5ms/step - loss: 0.1344 - accuracy: 0.9584 - val_loss: 0.1785 - val_accuracy: 0.9435\n",
      "Epoch 61/115\n",
      "114/114 [==============================] - 1s 5ms/step - loss: 0.1358 - accuracy: 0.9626 - val_loss: 0.2138 - val_accuracy: 0.9351\n",
      "Epoch 62/115\n",
      "114/114 [==============================] - 1s 5ms/step - loss: 0.1396 - accuracy: 0.9570 - val_loss: 0.2051 - val_accuracy: 0.9306\n",
      "Epoch 63/115\n",
      "114/114 [==============================] - 1s 5ms/step - loss: 0.1107 - accuracy: 0.9672 - val_loss: 0.1944 - val_accuracy: 0.9403\n",
      "Epoch 64/115\n",
      "114/114 [==============================] - 1s 5ms/step - loss: 0.1342 - accuracy: 0.9551 - val_loss: 0.1877 - val_accuracy: 0.9345\n",
      "Epoch 65/115\n",
      "114/114 [==============================] - 1s 5ms/step - loss: 0.1444 - accuracy: 0.9562 - val_loss: 0.1864 - val_accuracy: 0.9332\n",
      "Epoch 66/115\n",
      "114/114 [==============================] - 1s 5ms/step - loss: 0.1440 - accuracy: 0.9521 - val_loss: 0.2068 - val_accuracy: 0.9351\n",
      "Epoch 67/115\n",
      "114/114 [==============================] - 1s 5ms/step - loss: 0.1301 - accuracy: 0.9581 - val_loss: 0.2152 - val_accuracy: 0.9274\n",
      "Epoch 68/115\n",
      "114/114 [==============================] - 1s 5ms/step - loss: 0.1165 - accuracy: 0.9623 - val_loss: 0.2338 - val_accuracy: 0.9255\n",
      "Epoch 69/115\n",
      "114/114 [==============================] - 1s 5ms/step - loss: 0.1405 - accuracy: 0.9612 - val_loss: 0.2066 - val_accuracy: 0.9396\n",
      "Epoch 70/115\n",
      "114/114 [==============================] - 1s 5ms/step - loss: 0.1206 - accuracy: 0.9645 - val_loss: 0.2334 - val_accuracy: 0.9377\n",
      "Epoch 71/115\n",
      "114/114 [==============================] - 1s 5ms/step - loss: 0.1147 - accuracy: 0.9656 - val_loss: 0.2295 - val_accuracy: 0.9390\n",
      "Epoch 72/115\n",
      "114/114 [==============================] - 1s 5ms/step - loss: 0.1188 - accuracy: 0.9620 - val_loss: 0.1916 - val_accuracy: 0.9428\n",
      "Epoch 73/115\n",
      "114/114 [==============================] - 1s 5ms/step - loss: 0.1189 - accuracy: 0.9623 - val_loss: 0.2073 - val_accuracy: 0.9416\n",
      "Epoch 74/115\n",
      "114/114 [==============================] - 1s 5ms/step - loss: 0.1080 - accuracy: 0.9675 - val_loss: 0.2146 - val_accuracy: 0.9300\n",
      "Epoch 75/115\n",
      "114/114 [==============================] - 1s 5ms/step - loss: 0.1112 - accuracy: 0.9626 - val_loss: 0.2389 - val_accuracy: 0.9255\n",
      "Epoch 76/115\n",
      "114/114 [==============================] - 1s 5ms/step - loss: 0.1273 - accuracy: 0.9565 - val_loss: 0.2389 - val_accuracy: 0.9313\n",
      "Epoch 77/115\n",
      "114/114 [==============================] - 1s 5ms/step - loss: 0.1348 - accuracy: 0.9557 - val_loss: 0.2057 - val_accuracy: 0.9364\n",
      "Epoch 78/115\n",
      "114/114 [==============================] - 1s 5ms/step - loss: 0.1345 - accuracy: 0.9615 - val_loss: 0.1793 - val_accuracy: 0.9371\n",
      "Epoch 79/115\n",
      "114/114 [==============================] - 1s 5ms/step - loss: 0.1121 - accuracy: 0.9634 - val_loss: 0.1793 - val_accuracy: 0.9454\n",
      "Epoch 80/115\n",
      "114/114 [==============================] - 1s 5ms/step - loss: 0.1181 - accuracy: 0.9670 - val_loss: 0.2117 - val_accuracy: 0.9364\n",
      "Epoch 81/115\n",
      "114/114 [==============================] - 1s 5ms/step - loss: 0.1256 - accuracy: 0.9617 - val_loss: 0.2144 - val_accuracy: 0.9242\n",
      "Epoch 82/115\n",
      "114/114 [==============================] - 1s 5ms/step - loss: 0.1049 - accuracy: 0.9697 - val_loss: 0.2186 - val_accuracy: 0.9390\n",
      "Epoch 83/115\n",
      "114/114 [==============================] - 1s 5ms/step - loss: 0.1070 - accuracy: 0.9667 - val_loss: 0.2779 - val_accuracy: 0.9377\n",
      "Epoch 84/115\n",
      "114/114 [==============================] - 1s 5ms/step - loss: 0.1204 - accuracy: 0.9620 - val_loss: 0.2277 - val_accuracy: 0.9127\n",
      "Epoch 85/115\n",
      "114/114 [==============================] - 1s 5ms/step - loss: 0.1077 - accuracy: 0.9681 - val_loss: 0.2145 - val_accuracy: 0.9351\n",
      "Epoch 86/115\n",
      "114/114 [==============================] - 1s 5ms/step - loss: 0.1306 - accuracy: 0.9593 - val_loss: 0.1951 - val_accuracy: 0.9358\n",
      "Epoch 87/115\n",
      "114/114 [==============================] - 1s 5ms/step - loss: 0.0901 - accuracy: 0.9694 - val_loss: 0.2158 - val_accuracy: 0.9261\n",
      "Epoch 88/115\n",
      "114/114 [==============================] - 1s 5ms/step - loss: 0.1023 - accuracy: 0.9705 - val_loss: 0.2041 - val_accuracy: 0.9416\n",
      "Epoch 89/115\n",
      "114/114 [==============================] - 1s 5ms/step - loss: 0.1003 - accuracy: 0.9700 - val_loss: 0.1997 - val_accuracy: 0.9409\n",
      "Epoch 90/115\n",
      "114/114 [==============================] - 1s 5ms/step - loss: 0.1175 - accuracy: 0.9667 - val_loss: 0.2440 - val_accuracy: 0.9261\n",
      "Epoch 91/115\n",
      "114/114 [==============================] - 0s 4ms/step - loss: 0.1102 - accuracy: 0.9645 - val_loss: 0.2089 - val_accuracy: 0.9403\n",
      "Epoch 92/115\n",
      "114/114 [==============================] - 1s 5ms/step - loss: 0.1312 - accuracy: 0.9615 - val_loss: 0.1983 - val_accuracy: 0.9338\n",
      "Epoch 93/115\n",
      "114/114 [==============================] - 1s 5ms/step - loss: 0.1028 - accuracy: 0.9672 - val_loss: 0.2227 - val_accuracy: 0.9345\n",
      "Epoch 94/115\n",
      "114/114 [==============================] - 1s 5ms/step - loss: 0.1077 - accuracy: 0.9694 - val_loss: 0.1990 - val_accuracy: 0.9377\n",
      "Epoch 95/115\n",
      "114/114 [==============================] - 1s 5ms/step - loss: 0.1129 - accuracy: 0.9650 - val_loss: 0.2268 - val_accuracy: 0.9274\n",
      "Epoch 96/115\n",
      "114/114 [==============================] - 1s 6ms/step - loss: 0.1199 - accuracy: 0.9650 - val_loss: 0.2710 - val_accuracy: 0.9364\n",
      "Epoch 97/115\n",
      "114/114 [==============================] - 1s 5ms/step - loss: 0.1039 - accuracy: 0.9711 - val_loss: 0.1881 - val_accuracy: 0.9371\n",
      "Epoch 98/115\n",
      "114/114 [==============================] - 1s 5ms/step - loss: 0.0781 - accuracy: 0.9769 - val_loss: 0.2409 - val_accuracy: 0.9383\n",
      "Epoch 99/115\n",
      "114/114 [==============================] - 1s 5ms/step - loss: 0.0844 - accuracy: 0.9733 - val_loss: 0.2789 - val_accuracy: 0.9351\n",
      "Epoch 100/115\n",
      "114/114 [==============================] - 1s 5ms/step - loss: 0.0882 - accuracy: 0.9733 - val_loss: 0.2396 - val_accuracy: 0.9255\n",
      "Epoch 101/115\n",
      "114/114 [==============================] - 1s 5ms/step - loss: 0.0911 - accuracy: 0.9705 - val_loss: 0.1966 - val_accuracy: 0.9306\n",
      "Epoch 102/115\n",
      "114/114 [==============================] - 1s 5ms/step - loss: 0.1139 - accuracy: 0.9634 - val_loss: 0.2207 - val_accuracy: 0.9409\n",
      "Epoch 103/115\n",
      "114/114 [==============================] - 1s 5ms/step - loss: 0.1121 - accuracy: 0.9642 - val_loss: 0.2172 - val_accuracy: 0.9351\n",
      "Epoch 104/115\n",
      "114/114 [==============================] - 1s 5ms/step - loss: 0.0949 - accuracy: 0.9711 - val_loss: 0.2171 - val_accuracy: 0.9351\n",
      "Epoch 105/115\n",
      "114/114 [==============================] - 1s 5ms/step - loss: 0.0838 - accuracy: 0.9714 - val_loss: 0.2032 - val_accuracy: 0.9422\n",
      "Epoch 106/115\n",
      "114/114 [==============================] - 1s 5ms/step - loss: 0.0900 - accuracy: 0.9703 - val_loss: 0.1916 - val_accuracy: 0.9448\n",
      "Epoch 107/115\n",
      "114/114 [==============================] - 1s 5ms/step - loss: 0.0958 - accuracy: 0.9749 - val_loss: 0.1758 - val_accuracy: 0.9377\n",
      "Epoch 108/115\n",
      "114/114 [==============================] - 1s 5ms/step - loss: 0.0914 - accuracy: 0.9697 - val_loss: 0.2318 - val_accuracy: 0.9441\n",
      "Epoch 109/115\n",
      "114/114 [==============================] - 1s 5ms/step - loss: 0.0836 - accuracy: 0.9758 - val_loss: 0.1959 - val_accuracy: 0.9428\n",
      "Epoch 110/115\n",
      "114/114 [==============================] - 1s 5ms/step - loss: 0.0781 - accuracy: 0.9752 - val_loss: 0.2165 - val_accuracy: 0.9454\n",
      "Epoch 111/115\n",
      "114/114 [==============================] - 1s 5ms/step - loss: 0.1133 - accuracy: 0.9642 - val_loss: 0.1846 - val_accuracy: 0.9390\n",
      "Epoch 112/115\n",
      "114/114 [==============================] - 1s 5ms/step - loss: 0.1024 - accuracy: 0.9714 - val_loss: 0.1909 - val_accuracy: 0.9377\n",
      "Epoch 113/115\n",
      "114/114 [==============================] - 1s 5ms/step - loss: 0.1013 - accuracy: 0.9689 - val_loss: 0.1964 - val_accuracy: 0.9338\n",
      "Epoch 114/115\n",
      "114/114 [==============================] - 1s 5ms/step - loss: 0.0881 - accuracy: 0.9722 - val_loss: 0.2067 - val_accuracy: 0.9428\n",
      "Epoch 115/115\n",
      "114/114 [==============================] - 1s 4ms/step - loss: 0.1106 - accuracy: 0.9697 - val_loss: 0.2466 - val_accuracy: 0.9281\n"
     ]
    }
   ],
   "source": [
    "history = model.fit(X_train, y_train_hot, epochs=115, validation_data=(X_test, y_test_hot), callbacks=[callbacks])"
   ]
  },
  {
   "cell_type": "code",
   "execution_count": 25,
   "metadata": {},
   "outputs": [
    {
     "data": {
      "image/png": "[encoded data removed]",
      "text/plain": [
       "<Figure size 640x480 with 1 Axes>"
      ]
     },
     "metadata": {},
     "output_type": "display_data"
    },
    {
     "data": {
      "text/plain": [
       "<Figure size 640x480 with 0 Axes>"
      ]
     },
     "metadata": {},
     "output_type": "display_data"
    }
   ],
   "source": [
    "acc = history.history['accuracy']\n",
    "val_acc = history.history['val_accuracy']\n",
    "loss = history.history['loss']\n",
    "val_loss = history.history['val_loss']\n",
    "\n",
    "epochs = range(len(acc))\n",
    "\n",
    "plt.plot(epochs, acc, 'r', label='Training accuracy')\n",
    "plt.plot(epochs, val_acc, 'b', label='Validation accuracy')\n",
    "plt.title('Training and validation accuracy')\n",
    "plt.legend(loc=0)\n",
    "plt.figure()\n",
    "\n",
    "plt.show()"
   ]
  },
  {
   "cell_type": "code",
   "execution_count": 41,
   "metadata": {},
   "outputs": [
    {
     "name": "stdout",
     "output_type": "stream",
     "text": [
      "Recording started...\n",
      "Recording saved as test.wav\n"
     ]
    }
   ],
   "source": [
    "import sounddevice as sd\n",
    "import librosa\n",
    "import soundfile as sf\n",
    "\n",
    "duration = 1  # recording duration in seconds\n",
    "fs = 16000  # sample rate\n",
    "\n",
    "print(\"Recording started...\")\n",
    "recording = sd.rec(int(duration * fs), samplerate=fs, channels=1)\n",
    "sd.wait()  # wait until recording is finished\n",
    "\n",
    "sf.write(\"test.wav\", recording, fs)\n",
    "\n",
    "print(f\"Recording saved as test.wav\")\n",
    "audio_file = \"test.wav\"\n"
   ]
  },
  {
   "cell_type": "code",
   "execution_count": 42,
   "metadata": {},
   "outputs": [],
   "source": [
    "mfcc = wav2mfcc(audio_file, n_mfcc=20, max_len=11)\n",
    "\n",
    "np.save('./audio.npy', mfcc)"
   ]
  },
  {
   "cell_type": "code",
   "execution_count": 43,
   "metadata": {},
   "outputs": [
    {
     "data": {
      "text/plain": [
       "(20, 11)"
      ]
     },
     "execution_count": 43,
     "metadata": {},
     "output_type": "execute_result"
    }
   ],
   "source": [
    "X = np.load('audio.npy')\n",
    "X_Final = X.reshape((-1, config_buckets, config_max_len, channels))\n",
    "X.shape"
   ]
  },
  {
   "cell_type": "code",
   "execution_count": 44,
   "metadata": {},
   "outputs": [
    {
     "name": "stdout",
     "output_type": "stream",
     "text": [
      "1/1 [==============================] - 0s 30ms/step\n",
      "You spoke: CAT\n"
     ]
    }
   ],
   "source": [
    "val = model.predict(X_Final)\n",
    "reversed_labels = np.argmax(val, axis=1)\n",
    "\n",
    "if reversed_labels[0] == 0:\n",
    "    print(\"You spoke: BED\")\n",
    "elif reversed_labels[0] == 1:\n",
    "    print(\"You spoke: CAT\")\n",
    "elif reversed_labels[0] == 2:\n",
    "    print(\"You spoke: HAPPY\")"
   ]
  },
  {
   "cell_type": "code",
   "execution_count": null,
   "metadata": {},
   "outputs": [],
   "source": []
  }
 ],
 "metadata": {
  "kernelspec": {
   "display_name": "Python 3",
   "language": "python",
   "name": "python3"
  },
  "language_info": {
   "codemirror_mode": {
    "name": "ipython",
    "version": 3
   },
   "file_extension": ".py",
   "mimetype": "text/x-python",
   "name": "python",
   "nbconvert_exporter": "python",
   "pygments_lexer": "ipython3",
   "version": "3.9.16"
  }
 },
 "nbformat": 4,
 "nbformat_minor": 2
}
